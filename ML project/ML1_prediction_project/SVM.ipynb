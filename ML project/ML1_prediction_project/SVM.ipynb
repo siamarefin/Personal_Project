{
 "cells": [
  {
   "cell_type": "code",
   "execution_count": 98,
   "id": "96ba5782-39fa-4eae-bdf7-c1d36a0fbea7",
   "metadata": {
    "tags": []
   },
   "outputs": [
    {
     "data": {
      "text/plain": [
       "0.9666666666666667"
      ]
     },
     "execution_count": 98,
     "metadata": {},
     "output_type": "execute_result"
    }
   ],
   "source": [
    "import pandas as pd \n",
    "from sklearn.datasets import load_iris \n",
    "from  matplotlib import pyplot as plt \n",
    "from sklearn.model_selection import train_test_split\n",
    "\n",
    "iris = load_iris() \n",
    "#dir(iris)\n",
    "#iris.feature_name\n",
    "\n",
    "df = pd.DataFrame(iris.data , columns = iris.feature_names ) \n",
    "df['target'] = iris.target\n",
    "df0 = df[df.target == 0 ]\n",
    "df1 = df[df.target ==1 ]\n",
    "df2 = df[df.target == 2 ] \n",
    "df0.head()\n",
    "\n",
    "%matplotlib inline\n",
    "\n",
    "# plt.scatter(df0['sepal length (cm)'] , df0['sepal width (cm)'] , color= 'green' , marker= '+')\n",
    "# plt.scatter(df1['sepal length (cm)'] , df1['sepal width (cm)'] , color= 'blue' , marker= '.')\n",
    "\n",
    "# plt.scatter(df0['petal length (cm)'] , df0['petal width (cm)'] , color= 'green' , marker= '.')\n",
    "# plt.scatter(df1['petal length (cm)'] , df1['petal width (cm)'] , color= 'blue' , marker= '+')\n",
    "\n",
    "x = df.drop(['target'] , axis = 'columns' ) \n",
    "y= df.target \n",
    "\n",
    "x_train , x_test , y_train, y_test  = train_test_split(x,y,test_size = 0.2 )\n",
    "\n",
    "from sklearn.svm import SVC \n",
    "model =SVC()\n",
    "model.fit(x_train , y_train) \n",
    "model.score(x_test, y_test)"
   ]
  },
  {
   "cell_type": "code",
   "execution_count": null,
   "id": "abeec784-bf5c-4f0b-9e5e-cfdcbd3c2cc8",
   "metadata": {},
   "outputs": [],
   "source": []
  },
  {
   "cell_type": "code",
   "execution_count": null,
   "id": "06b18819-0070-42d0-b238-f198a7c234d4",
   "metadata": {},
   "outputs": [],
   "source": []
  }
 ],
 "metadata": {
  "kernelspec": {
   "display_name": "Python 3 (ipykernel)",
   "language": "python",
   "name": "python3"
  },
  "language_info": {
   "codemirror_mode": {
    "name": "ipython",
    "version": 3
   },
   "file_extension": ".py",
   "mimetype": "text/x-python",
   "name": "python",
   "nbconvert_exporter": "python",
   "pygments_lexer": "ipython3",
   "version": "3.11.4"
  }
 },
 "nbformat": 4,
 "nbformat_minor": 5
}
