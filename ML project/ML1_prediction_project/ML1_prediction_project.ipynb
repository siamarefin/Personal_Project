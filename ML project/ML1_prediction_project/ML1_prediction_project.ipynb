{
 "cells": [
  {
   "cell_type": "code",
   "execution_count": null,
   "metadata": {},
   "outputs": [],
   "source": [
    "import pandas as pd \n",
    "import numpy as np \n",
    "import matplotlib.pyplot as plt\n",
    "from sklearn import linear_model\n",
    "\n",
    "df = pd.read_csv(\"C:\\\\Users\\Siam\\Desktop\\python\\homeprices.csv\")\n",
    "df\n",
    "%matplotlib inline \n",
    "plt.scatter(df.area,df.price , color = 'r'  , marker = '+')\n",
    "plt.xlabel(\"area\")\n",
    "plt.ylabel(\"price\")\n",
    "plt.show()\n",
    "\n",
    "new_df = df.drop('price' ,axis = 'columns')\n",
    "price = df.price\n",
    "reg = linear_model.LinearRegression()\n",
    "reg.fit(new_df,price)\n",
    "arrea_df =  pd.read_csv(\"C:\\\\Users\\Siam\\Desktop\\python\\weather.csv\")\n",
    "arr = arra.to_numpy() \n",
    "pr = reg.predict(arr)\n",
    "area_df['prices'] =pr\n",
    "area_df\n",
    "#area_df.to_csv(\"C:\\\\Users\\Siam\\Desktop\\python\\prediction.csv\") "
   ]
  }
 ],
 "metadata": {
  "language_info": {
   "name": "python"
  },
  "orig_nbformat": 4
 },
 "nbformat": 4,
 "nbformat_minor": 2
}
